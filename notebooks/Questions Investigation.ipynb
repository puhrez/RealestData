{
 "cells": [
  {
   "cell_type": "code",
   "execution_count": 3,
   "metadata": {},
   "outputs": [
    {
     "data": {
      "text/html": [
       "\n",
       "        <div>\n",
       "            <p><b>SparkContext</b></p>\n",
       "\n",
       "            <p><a href=\"http://galago-puhrez:4040\">Spark UI</a></p>\n",
       "\n",
       "            <dl>\n",
       "              <dt>Version</dt>\n",
       "                <dd><code>v2.3.0</code></dd>\n",
       "              <dt>Master</dt>\n",
       "                <dd><code>spark://galago-puhrez:7077</code></dd>\n",
       "              <dt>AppName</dt>\n",
       "                <dd><code>PySparkShell</code></dd>\n",
       "            </dl>\n",
       "        </div>\n",
       "        "
      ],
      "text/plain": [
       "<SparkContext master=spark://galago-puhrez:7077 appName=PySparkShell>"
      ]
     },
     "execution_count": 3,
     "metadata": {},
     "output_type": "execute_result"
    }
   ],
   "source": [
    "sc"
   ]
  },
  {
   "cell_type": "code",
   "execution_count": 4,
   "metadata": {},
   "outputs": [],
   "source": [
    "from pyspark.sql import SparkSession\n",
    "spark = SparkSession.builder \\\n",
    "    .appName(\"Questions Investigation\") \\\n",
    "    .getOrCreate()\n"
   ]
  },
  {
   "cell_type": "code",
   "execution_count": 5,
   "metadata": {},
   "outputs": [],
   "source": [
    "from pyspark.sql.utils import AnalysisException\n",
    "filepath = \"../fixtures/transformed_daily_properties.csv\"\n",
    "try:\n",
    "    propertiesDF = spark.read.format(\"csv\")  \\\n",
    "        .option(\"inferSchema\", \"true\")  \\\n",
    "        .option(\"header\", \"true\")  \\\n",
    "        .load(filepath).cache()\n",
    "except AnalysisException as e:\n",
    "    print(\"Got an Analysis exception, please ensure %s exists\" % filepath)"
   ]
  },
  {
   "cell_type": "markdown",
   "metadata": {},
   "source": [
    "## What does the  neighborhood distribution look like?"
   ]
  },
  {
   "cell_type": "code",
   "execution_count": 6,
   "metadata": {},
   "outputs": [
    {
     "name": "stdout",
     "output_type": "stream",
     "text": [
      "+------------+-----+\n",
      "|Neighborhood|count|\n",
      "+------------+-----+\n",
      "|Blueste     |2    |\n",
      "|NPkVill     |9    |\n",
      "|Veenker     |11   |\n",
      "|BrDale      |16   |\n",
      "|Blmngtn     |17   |\n",
      "|MeadowV     |17   |\n",
      "|SWISU       |25   |\n",
      "|StoneBr     |25   |\n",
      "|ClearCr     |28   |\n",
      "|IDOTRR      |37   |\n",
      "|Timber      |38   |\n",
      "|NoRidge     |41   |\n",
      "|Mitchel     |49   |\n",
      "|Crawfor     |51   |\n",
      "|BrkSide     |58   |\n",
      "|SawyerW     |59   |\n",
      "|NWAmes      |73   |\n",
      "|Sawyer      |74   |\n",
      "|NridgHt     |77   |\n",
      "|Gilbert     |79   |\n",
      "|Somerst     |86   |\n",
      "|Edwards     |100  |\n",
      "|OldTown     |113  |\n",
      "|CollgCr     |150  |\n",
      "|NAmes       |225  |\n",
      "+------------+-----+\n",
      "\n",
      "25 neighborhoods\n"
     ]
    }
   ],
   "source": [
    "neighborhoodDF = propertiesDF.select(\"Neighborhood\").cache()\n",
    "groupedByNeighborhoodDF = neighborhoodDF.groupBy(\"Neighborhood\").count()\n",
    "# 20 needed because args are positional\n",
    "neighborhoodCount = groupedByNeighborhoodDF.count()\n",
    "groupedByNeighborhoodDF.sort(\"count\").show(neighborhoodCount, False)\n",
    "print(neighborhoodCount, \"neighborhoods\")"
   ]
  },
  {
   "cell_type": "code",
   "execution_count": 7,
   "metadata": {},
   "outputs": [],
   "source": [
    "# let's graph them\n",
    "%matplotlib inline\n",
    "import seaborn as sns\n",
    "# this is dangerous if there neighborhoodDF is big\n",
    "neighborhoods = neighborhoodDF.toPandas()"
   ]
  },
  {
   "cell_type": "code",
   "execution_count": 8,
   "metadata": {},
   "outputs": [
    {
     "data": {
      "text/plain": [
       "<matplotlib.axes._subplots.AxesSubplot at 0x7f4461d9fb38>"
      ]
     },
     "execution_count": 8,
     "metadata": {},
     "output_type": "execute_result"
    },
    {
     "data": {
      "image/png": "[encoded data removed]",
      "text/plain": [
       "<Figure size 432x288 with 1 Axes>"
      ]
     },
     "metadata": {},
     "output_type": "display_data"
    }
   ],
   "source": [
    "sns.countplot(y=\"Neighborhood\", data=neighborhoods)"
   ]
  },
  {
   "cell_type": "markdown",
   "metadata": {},
   "source": [
    "## What's the average sale price per neighborhood?"
   ]
  },
  {
   "cell_type": "code",
   "execution_count": 9,
   "metadata": {},
   "outputs": [
    {
     "name": "stdout",
     "output_type": "stream",
     "text": [
      "+------------+---------------+-----------------+\n",
      "|Neighborhood|Avg Sales Price|Num of Properties|\n",
      "+------------+---------------+-----------------+\n",
      "|MeadowV     |98576          |17               |\n",
      "|IDOTRR      |100123         |37               |\n",
      "|BrDale      |104493         |16               |\n",
      "|BrkSide     |124834         |58               |\n",
      "|Edwards     |128219         |100              |\n",
      "|OldTown     |128225         |113              |\n",
      "|Sawyer      |136793         |74               |\n",
      "|Blueste     |137500         |2                |\n",
      "|SWISU       |142591         |25               |\n",
      "|NPkVill     |142694         |9                |\n",
      "|NAmes       |145847         |225              |\n",
      "|Mitchel     |156270         |49               |\n",
      "|SawyerW     |186555         |59               |\n",
      "|NWAmes      |189050         |73               |\n",
      "|Gilbert     |192854         |79               |\n",
      "|Blmngtn     |194870         |17               |\n",
      "|CollgCr     |197965         |150              |\n",
      "|Crawfor     |210624         |51               |\n",
      "|ClearCr     |212565         |28               |\n",
      "|Somerst     |225379         |86               |\n",
      "|Veenker     |238772         |11               |\n",
      "|Timber      |242247         |38               |\n",
      "|StoneBr     |310499         |25               |\n",
      "|NridgHt     |316270         |77               |\n",
      "|NoRidge     |335295         |41               |\n",
      "+------------+---------------+-----------------+\n",
      "\n"
     ]
    }
   ],
   "source": [
    "import pyspark.sql.functions as funcs\n",
    "salesPriceByNeighborhoodDF = propertiesDF  \\\n",
    "    .groupBy(\"Neighborhood\") \\\n",
    "    .agg(dict(SalePrice=\"avg\", Neighborhood=\"count\"))  \\\n",
    "    .select(\"Neighborhood\",\n",
    "            funcs.col(\"avg(SalePrice)\").cast(\"int\").alias(\"Avg Sales Price\"),\n",
    "            funcs.col(\"count(Neighborhood)\").alias(\"Num of Properties\"))\n",
    "\n",
    "# Added count for more context, \n",
    "# We can see how distributed the portfolio is across economic levels\n",
    "salesPriceByNeighborhoodDF.sort(\"Avg Sales Price\").show(neighborhoodCount, False)"
   ]
  },
  {
   "cell_type": "code",
   "execution_count": 10,
   "metadata": {},
   "outputs": [
    {
     "data": {
      "text/plain": [
       "<matplotlib.axes._subplots.AxesSubplot at 0x7f445d447080>"
      ]
     },
     "execution_count": 10,
     "metadata": {},
     "output_type": "execute_result"
    },
    {
     "data": {
      "image/png": "[encoded data removed]",
      "text/plain": [
       "<Figure size 432x288 with 1 Axes>"
      ]
     },
     "metadata": {},
     "output_type": "display_data"
    }
   ],
   "source": [
    "# let's plot it!\n",
    "\n",
    "salesPriceByNeighborhood = salesPriceByNeighborhoodDF.toPandas()\n",
    "sns.stripplot(x=\"Avg Sales Price\", y=\"Neighborhood\", \n",
    "              data=salesPriceByNeighborhood)"
   ]
  },
  {
   "cell_type": "markdown",
   "metadata": {},
   "source": [
    "# What're the ten most expensive houses like?"
   ]
  },
  {
   "cell_type": "code",
   "execution_count": 11,
   "metadata": {
    "scrolled": true
   },
   "outputs": [
    {
     "name": "stdout",
     "output_type": "stream",
     "text": [
      "+---------+------------+--------+----------+-----------+---------+------------+----------+--------+\n",
      "|SalePrice|Neighborhood|BldgType|HouseStyle|OverallCond|YearBuilt|BedroomAbvGr|GarageArea|PoolArea|\n",
      "+---------+------------+--------+----------+-----------+---------+------------+----------+--------+\n",
      "|   755000|     NoRidge|    1Fam|    2Story|          6|     1994|           4|       832|       0|\n",
      "|   745000|     NoRidge|    1Fam|    2Story|          5|     1996|           4|       813|     555|\n",
      "|   625000|     NoRidge|    1Fam|    2Story|          5|     1995|           4|       807|       0|\n",
      "|   611657|     NridgHt|    1Fam|    1Story|          5|     2009|           2|       820|       0|\n",
      "|   582933|     NridgHt|    1Fam|    2Story|          5|     2008|           4|      1020|       0|\n",
      "|   556581|     StoneBr|    1Fam|    2Story|          5|     2005|           4|       716|       0|\n",
      "|   555000|     NridgHt|    1Fam|    1Story|          5|     2008|           2|       672|       0|\n",
      "|   538000|     StoneBr|    1Fam|    2Story|          5|     2003|           4|       841|       0|\n",
      "|   501837|     StoneBr|    1Fam|    1Story|          5|     2008|           1|      1166|       0|\n",
      "|   485000|     NridgHt|    1Fam|    2Story|          5|     2008|           4|       820|       0|\n",
      "+---------+------------+--------+----------+-----------+---------+------------+----------+--------+\n",
      "only showing top 10 rows\n",
      "\n"
     ]
    }
   ],
   "source": [
    "# Note that there's no way to determine how many bedrooms are in the basement\n",
    "# since the \"BedroomAbvGr\" column exludes them and there's no \"BedroomBlwGr\" column\n",
    "\n",
    "columnsOfInterest = [\n",
    "    \"SalePrice\",\n",
    "    \"Neighborhood\",\n",
    "    \"BldgType\",\n",
    "    \"HouseStyle\",\n",
    "    \"OverallCond\",\n",
    "    \"YearBuilt\",\n",
    "    \"BedroomAbvGr\",\n",
    "    \"GarageArea\",\n",
    "    \"PoolArea\"\n",
    "    \n",
    "]\n",
    "propertiesDF.sort(funcs.desc('SalePrice')).select(*columnsOfInterest).show(10)"
   ]
  },
  {
   "cell_type": "markdown",
   "metadata": {},
   "source": [
    "# What're the ten least expensive houses like?"
   ]
  },
  {
   "cell_type": "code",
   "execution_count": 12,
   "metadata": {},
   "outputs": [
    {
     "name": "stdout",
     "output_type": "stream",
     "text": [
      "+---------+------------+--------+----------+-----------+---------+------------+----------+--------+\n",
      "|SalePrice|Neighborhood|BldgType|HouseStyle|OverallCond|YearBuilt|BedroomAbvGr|GarageArea|PoolArea|\n",
      "+---------+------------+--------+----------+-----------+---------+------------+----------+--------+\n",
      "|    34900|      IDOTRR|    1Fam|    1Story|          5|     1920|           2|         0|       0|\n",
      "|    35311|      IDOTRR|    1Fam|    1Story|          3|     1949|           1|       308|       0|\n",
      "|    37900|     OldTown|    1Fam|    1.5Fin|          6|     1910|           2|         0|       0|\n",
      "|    39300|     BrkSide|    1Fam|    1Story|          3|     1946|           1|         0|       0|\n",
      "|    40000|      IDOTRR|    1Fam|    2Story|          4|     1920|           3|       250|       0|\n",
      "|    52000|     BrkSide|    1Fam|    1Story|          6|     1935|           2|         0|       0|\n",
      "|    52500|     OldTown|    1Fam|    1Story|          4|     1941|           2|         0|       0|\n",
      "|    55000|      IDOTRR|  2fmCon|    2Story|          5|     1930|           3|         0|       0|\n",
      "|    55000|      IDOTRR|    1Fam|    1Story|          4|     1922|           2|         0|       0|\n",
      "|    55993|      IDOTRR|    1Fam|    1Story|          5|     1952|           2|       504|       0|\n",
      "+---------+------------+--------+----------+-----------+---------+------------+----------+--------+\n",
      "only showing top 10 rows\n",
      "\n"
     ]
    }
   ],
   "source": [
    "bottom10 = propertiesDF.sort(funcs.asc('SalePrice')).select(*columnsOfInterest).show(10)"
   ]
  },
  {
   "cell_type": "markdown",
   "metadata": {},
   "source": [
    "# Among the houses with the best overall condition, what percent have a garage area bigger than 1000sqft"
   ]
  },
  {
   "cell_type": "code",
   "execution_count": 13,
   "metadata": {},
   "outputs": [
    {
     "name": "stdout",
     "output_type": "stream",
     "text": [
      "+--------------------+----------+\n",
      "|GarageAreaGT1000SqFt|Percentage|\n",
      "+--------------------+----------+\n",
      "|                true|      4.55|\n",
      "|               false|     95.45|\n",
      "+--------------------+----------+\n",
      "\n"
     ]
    }
   ],
   "source": [
    "from pyspark.sql import Window\n",
    "\n",
    "# Need to make a DF with the largest max for filtering inner join later\n",
    "maxCond = propertiesDF.select(funcs.max('OverallCond').alias('maxCond'))\n",
    "\n",
    "# I need an infinitely large window if I want to compute the percentage\n",
    "# against the whole data set\n",
    "window = Window.rowsBetween(Window.unboundedPreceding, Window.unboundedFollowing)\n",
    "\n",
    "bestHousesByVeryBigGarageDF = propertiesDF.join(\n",
    "    maxCond, \n",
    "    propertiesDF.OverallCond == maxCond.maxCond, \n",
    "        'inner')  \\\n",
    "    .groupBy('GarageAreaGT1000SqFt')  \\\n",
    "    .count()  \\\n",
    "    .withColumn('total', funcs.sum('count').over(window)) \\\n",
    "    .withColumn('Percentage',\n",
    "                funcs.bround(funcs.col('count') / funcs.col('total') * 100, 2)) \\\n",
    "    .drop('count').drop('total') \n",
    "\n",
    "bestHousesByVeryBigGarageDF.show()"
   ]
  },
  {
   "cell_type": "code",
   "execution_count": 14,
   "metadata": {},
   "outputs": [
    {
     "data": {
      "image/png": "[encoded data removed]",
      "text/plain": [
       "<Figure size 432x288 with 1 Axes>"
      ]
     },
     "metadata": {},
     "output_type": "display_data"
    }
   ],
   "source": [
    "# Let's graph it with a donut plot!\n",
    "import matplotlib.pyplot as plt\n",
    "counts, groups = [], []\n",
    "for row in bestHousesByVeryBigGarageDF.collect():\n",
    "    counts.append(row.Percentage)\n",
    "    groups.append('Garage Area > 1000sqft' \n",
    "                  if row.GarageAreaGT1000SqFt\n",
    "                 else 'Garage Area <= 1000sqft')\n",
    "inner_circle = plt.Circle((0, 0), 0.8, color=\"white\")\n",
    "plt.pie(counts, labels=groups, colors=['red', 'blue'])\n",
    "donut_plt = plt.gcf()\n",
    "donut_plt.gca().add_artist(inner_circle)\n",
    "plt.show()"
   ]
  },
  {
   "cell_type": "markdown",
   "metadata": {},
   "source": [
    "# How big is my frontage?"
   ]
  },
  {
   "cell_type": "code",
   "execution_count": 15,
   "metadata": {},
   "outputs": [
    {
     "name": "stdout",
     "output_type": "stream",
     "text": [
      "LotFrontage nulls: 259\n",
      "% of null LotFrontages: 17.74\n"
     ]
    }
   ],
   "source": [
    "# Since  I can't tell how big your frontage is, I'll tell you want the average frontage is\n",
    "\n",
    "# Some entries are missing frontages, \n",
    "# so in intial attempt a  Data processing step we nulled them. \n",
    "# How many of them are null?\n",
    "nulls = propertiesDF.filter(propertiesDF.LotFrontage.isNull()).count() \n",
    "print(\"LotFrontage nulls:\", nulls)\n",
    "# what percentage of our data is that?\n",
    "perc = round(nulls / propertiesDF.count() * 100, 2)\n",
    "print(\"% of null LotFrontages:\", perc)"
   ]
  },
  {
   "cell_type": "markdown",
   "metadata": {},
   "source": [
    "Let's try and figure out how to impute Frontage. Given its definition, we can take LotShape and LotArea as potential correlates, and impute LotFrontage from them.\n",
    "Plotting might confirm these ideas"
   ]
  },
  {
   "cell_type": "code",
   "execution_count": 16,
   "metadata": {},
   "outputs": [
    {
     "data": {
      "text/plain": [
       "<matplotlib.axes._subplots.AxesSubplot at 0x7f445d2de3c8>"
      ]
     },
     "execution_count": 16,
     "metadata": {},
     "output_type": "execute_result"
    },
    {
     "data": {
      "image/png": "[encoded data removed]",
      "text/plain": [
       "<Figure size 432x288 with 1 Axes>"
      ]
     },
     "metadata": {},
     "output_type": "display_data"
    }
   ],
   "source": [
    "# This one takes a minute\n",
    "frontageDF = propertiesDF.select(\"LotFrontage\", \"LotArea\", \"LotShape\")\n",
    "properties = frontageDF.toPandas()\n",
    "sns.stripplot(y=\"LotFrontage\", x=\"LotArea\", hue=\"LotShape\", data=properties)"
   ]
  },
  {
   "cell_type": "markdown",
   "metadata": {},
   "source": [
    "Since we can see that the LotArea correlates (i.e. moves with) LotFrontage, (mostly) even across LotShapes, let's use LotArea to impute LotFrontage\n"
   ]
  },
  {
   "cell_type": "code",
   "execution_count": 17,
   "metadata": {},
   "outputs": [
    {
     "name": "stdout",
     "output_type": "stream",
     "text": [
      "San Impution\n",
      "+--------------------------+\n",
      "|round(avg(LotFrontage), 2)|\n",
      "+--------------------------+\n",
      "|                     70.05|\n",
      "+--------------------------+\n",
      "\n",
      "With Mean Impution\n",
      "+--------------------------+\n",
      "|round(avg(LotFrontage), 2)|\n",
      "+--------------------------+\n",
      "|                     70.05|\n",
      "+--------------------------+\n",
      "\n"
     ]
    }
   ],
   "source": [
    "from pyspark.ml.feature import Imputer\n",
    "imputableFrontageFG = frontageDF.select(frontageDF.LotFrontage.cast('float'), frontageDF.LotArea.cast('float'))\n",
    "\n",
    "imputer = Imputer(\n",
    "    inputCols=imputableFrontageFG.columns,\n",
    "    outputCols=imputableFrontageFG.columns            \n",
    ")\n",
    "\n",
    "imputedDF = imputer.fit(imputableFrontageFG).transform(imputableFrontageFG)\n",
    "\n",
    "# Let's make sure that we no longer have nulls for Frontage\n",
    "assert not imputedDF.filter(imputedDF.LotFrontage.isNull()).count()\n",
    "\n",
    "# For curiousity's sake, let's see how the average moved\n",
    "print(\"San Impution\")\n",
    "propertiesDF.select(funcs.round(funcs.avg('LotFrontage'), 2)).show()\n",
    "print(\"With Mean Impution\")\n",
    "imputedDF.select(funcs.round(funcs.avg('LotFrontage'), 2)).show()"
   ]
  },
  {
   "cell_type": "markdown",
   "metadata": {},
   "source": [
    "Neglibly I see, let's try with a median stategy instead of mean as is Imputer's default"
   ]
  },
  {
   "cell_type": "code",
   "execution_count": 18,
   "metadata": {},
   "outputs": [
    {
     "name": "stdout",
     "output_type": "stream",
     "text": [
      "Sans Impution\n",
      "+--------------------------+\n",
      "|round(avg(LotFrontage), 2)|\n",
      "+--------------------------+\n",
      "|                     70.05|\n",
      "+--------------------------+\n",
      "\n",
      "With Median Impution\n",
      "+--------------------------+\n",
      "|round(avg(LotFrontage), 2)|\n",
      "+--------------------------+\n",
      "|                     69.86|\n",
      "+--------------------------+\n",
      "\n"
     ]
    }
   ],
   "source": [
    "medianImputer = Imputer( \n",
    "    inputCols=imputableFrontageFG.columns,\n",
    "    outputCols=imputableFrontageFG.columns,\n",
    "    strategy='median'\n",
    ")\n",
    "\n",
    "imputedDF = imputer.fit(imputableFrontageFG).transform(imputableFrontageFG)\n",
    "\n",
    "\n",
    "medianImputedDF = medianImputer.fit(imputableFrontageFG).transform(imputableFrontageFG)\n",
    "\n",
    "# Let's make sure that we no longer have nulls for Frontage\n",
    "assert not medianImputedDF.filter(medianImputedDF.LotFrontage.isNull()).count()\n",
    "\n",
    "print(\"Sans Impution\")\n",
    "propertiesDF.select(funcs.round(funcs.avg('LotFrontage'), 2)).show()\n",
    "print(\"With Median Impution\")\n",
    "medianImputedDF.select(funcs.round(funcs.avg('LotFrontage'), 2)).show()"
   ]
  },
  {
   "cell_type": "markdown",
   "metadata": {},
   "source": [
    "With this research we can inform how we transform our data to impute LotFrontage"
   ]
  },
  {
   "cell_type": "markdown",
   "metadata": {},
   "source": [
    "# Which neighborhood would you advice for a family of 5 with 2 cars and 170,000USD?\n",
    "\n",
    "The general approach here is to present the top 10 neighboorhoods by Bedrooms. Why bedrooms? Because depending on the family, certain members may want to sleep in the same room. At a minimum we assume 2 bedrooms, seperating a master's for the parents and another for the children."
   ]
  },
  {
   "cell_type": "code",
   "execution_count": 19,
   "metadata": {},
   "outputs": [
    {
     "name": "stdout",
     "output_type": "stream",
     "text": [
      "+------------+------------+-----------+-------------+-----------------+--------------+\n",
      "|Neighborhood|BedroomAbvGr|Avg Quality|Avg Condition|Num of Properties|Avg Sale Price|\n",
      "+------------+------------+-----------+-------------+-----------------+--------------+\n",
      "|       SWISU|           3|        7.0|          9.0|                1|      155000.0|\n",
      "|     BrkSide|           2|        6.0|         7.33|                3|      122300.0|\n",
      "|     Gilbert|           4|        8.0|          7.0|                1|      164000.0|\n",
      "|     ClearCr|           3|        6.0|          7.0|                1|      155000.0|\n",
      "|     Crawfor|           2|        5.0|          7.0|                1|      163500.0|\n",
      "|     OldTown|           3|       5.38|         6.62|               13|     137607.69|\n",
      "|     BrkSide|           3|        5.5|          6.6|               10|      140440.0|\n",
      "|     OldTown|           4|       5.44|         6.33|                9|     131644.44|\n",
      "|     OldTown|           2|       5.29|         6.19|               21|      120589.1|\n",
      "|     Veenker|           3|        6.0|          6.0|                2|      163750.0|\n",
      "+------------+------------+-----------+-------------+-----------------+--------------+\n",
      "only showing top 10 rows\n",
      "\n"
     ]
    }
   ],
   "source": [
    "recommendationsDF = propertiesDF  \\\n",
    "    .filter(funcs.col('SalePrice') < 170000)  \\\n",
    "    .filter(funcs.col('GarageCars') >= 2)  \\\n",
    "    .filter(funcs.col('BedroomAbvGr') >= 2)  \\\n",
    "    .groupBy('Neighborhood', 'BedroomAbvGr')  \\\n",
    "    .agg(dict(Neighborhood='count', OverallCond='avg', SalePrice='avg', OverallQual='avg')) \\\n",
    "    .select('Neighborhood',\n",
    "            'BedroomAbvGr',\n",
    "            funcs.round('avg(OverallQual)', 2).alias('Avg Quality'),\n",
    "            funcs.round('avg(OverallCond)', 2).alias('Avg Condition'),\n",
    "            funcs.col('count(Neighborhood)').alias('Num of Properties'),\n",
    "            funcs.round('avg(SalePrice)', 2).alias('Avg Sale Price')) \\\n",
    "    .orderBy(['Avg Condition', 'Avg Quality', 'Num of Properties', 'BedroomAbvGr'],\n",
    "            ascending=False)\n",
    "    \n",
    "recommendationsDF.show(10)"
   ]
  },
  {
   "cell_type": "markdown",
   "metadata": {},
   "source": [
    "Given the above data, I recommend if the family is cool with having three bedrooms that they run as fast as possible to SWISU to checkout the only property there as it's a bit under their budget, of the best condition possible, and has enough bedrooms. If they want a master bedroom for parents and a room for each of the other members, Gilbert has the best quality and is in great condition, though it's very close to their budget. Oldtown and Crawfor both have suitable listings, of better value, though the (slightly) sacrifice quality."
   ]
  },
  {
   "cell_type": "markdown",
   "metadata": {},
   "source": [
    "If the family wants a bedroom for each member, these are the only neighborhoods that'll satisfy them.\n"
   ]
  },
  {
   "cell_type": "code",
   "execution_count": 20,
   "metadata": {},
   "outputs": [
    {
     "name": "stdout",
     "output_type": "stream",
     "text": [
      "+------------+\n",
      "|Neighborhood|\n",
      "+------------+\n",
      "|       NAmes|\n",
      "|     OldTown|\n",
      "|     MeadowV|\n",
      "+------------+\n",
      "\n"
     ]
    }
   ],
   "source": [
    "recommendationsDF.filter(funcs.col('BedroomAbvGr') == 5).select('Neighborhood').show()"
   ]
  },
  {
   "cell_type": "markdown",
   "metadata": {},
   "source": [
    "# Some interesting insight\n",
    "While one would think that there's a correlation between Quality, Condition and Price. That's not necessarily true. As the graphs below will show, while there is a correlation between Price and Quality, Condition doesn't correlate with either. Leading one to believe that houses in need of house's value is determined more by the quality of its build than its current condition, intuitively because it's easier and more cost efficient to fix up a rundown home than renovate shoddy construction."
   ]
  },
  {
   "cell_type": "code",
   "execution_count": 21,
   "metadata": {},
   "outputs": [],
   "source": [
    "curiousDF = propertiesDF  \\\n",
    "    .groupBy(\"Neighborhood\") \\\n",
    "    .agg(dict(OverallCond='avg', SalePrice='avg', OverallQual='avg')) \\\n",
    "    .select('Neighborhood',\n",
    "            funcs.round('avg(OverallQual)', 2).alias('Avg Quality'),\n",
    "            funcs.round('avg(OverallCond)', 2).alias('Avg Condition'),\n",
    "            funcs.round('avg(SalePrice)', 2).alias('Avg Sale Price'))\n",
    "curious = curiousDF.toPandas()"
   ]
  },
  {
   "cell_type": "code",
   "execution_count": 22,
   "metadata": {},
   "outputs": [
    {
     "data": {
      "text/plain": [
       "<matplotlib.axes._subplots.AxesSubplot at 0x7f445d376c50>"
      ]
     },
     "execution_count": 22,
     "metadata": {},
     "output_type": "execute_result"
    },
    {
     "data": {
      "image/png": "[encoded data removed]",
      "text/plain": [
       "<Figure size 432x288 with 1 Axes>"
      ]
     },
     "metadata": {},
     "output_type": "display_data"
    }
   ],
   "source": [
    "sns.stripplot(y=\"Avg Quality\", x=\"Avg Condition\", data=curious)"
   ]
  },
  {
   "cell_type": "code",
   "execution_count": 23,
   "metadata": {},
   "outputs": [
    {
     "data": {
      "text/plain": [
       "<matplotlib.axes._subplots.AxesSubplot at 0x7f445c0a36a0>"
      ]
     },
     "execution_count": 23,
     "metadata": {},
     "output_type": "execute_result"
    },
    {
     "data": {
      "image/png": "[encoded data removed]",
      "text/plain": [
       "<Figure size 432x288 with 1 Axes>"
      ]
     },
     "metadata": {},
     "output_type": "display_data"
    }
   ],
   "source": [
    "sns.stripplot(y=\"Avg Sale Price\", x=\"Avg Condition\", data=curious)"
   ]
  },
  {
   "cell_type": "code",
   "execution_count": 24,
   "metadata": {},
   "outputs": [
    {
     "data": {
      "text/plain": [
       "<matplotlib.axes._subplots.AxesSubplot at 0x7f445c0b9c18>"
      ]
     },
     "execution_count": 24,
     "metadata": {},
     "output_type": "execute_result"
    },
    {
     "data": {
      "image/png": "[encoded data removed]",
      "text/plain": [
       "<Figure size 432x288 with 1 Axes>"
      ]
     },
     "metadata": {},
     "output_type": "display_data"
    }
   ],
   "source": [
    "sns.stripplot(y=\"Avg Sale Price\", x=\"Avg Quality\", data=curious)"
   ]
  }
 ],
 "metadata": {
  "kernelspec": {
   "display_name": "Python 3",
   "language": "python",
   "name": "python3"
  },
  "language_info": {
   "codemirror_mode": {
    "name": "ipython",
    "version": 3
   },
   "file_extension": ".py",
   "mimetype": "text/x-python",
   "name": "python",
   "nbconvert_exporter": "python",
   "pygments_lexer": "ipython3",
   "version": "3.6.4"
  }
 },
 "nbformat": 4,
 "nbformat_minor": 2
}
